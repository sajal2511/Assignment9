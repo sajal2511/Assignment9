{
 "cells": [
  {
   "cell_type": "markdown",
   "id": "9b55d3b7-1921-409f-8da3-5fff4e9c31cf",
   "metadata": {},
   "source": [
    "# Q.1. What is a lambda function in Python, and how does it differ from a regular function?"
   ]
  },
  {
   "cell_type": "markdown",
   "id": "a4d3ff8e-a29d-46d1-b82b-40d718fd0747",
   "metadata": {},
   "source": [
    "Ans: Lambda functions are similar to user-defined functions but without a name. They're commonly referred to as anonymous functions. Lambda functions are efficient whenever you want to create a function that will only contain simple expressions – that is, expressions that are usually a single line of a statement."
   ]
  },
  {
   "cell_type": "markdown",
   "id": "84187f50-27cb-473a-ac94-3ac1d677acf4",
   "metadata": {},
   "source": [
    "# Q.2. Can a lambda function in Python have multiple arguments? If yes, how can you define and use them?"
   ]
  },
  {
   "cell_type": "markdown",
   "id": "26338557-cea2-4c4a-b379-4059707ced4a",
   "metadata": {},
   "source": [
    "Ans: The lambda function can take many arguments but can return only one expression. Here the expression is nothing but the result returned by the lambda function. Lambda functions are syntactically restricted to return a single expression. You can use them as an anonymous function inside other functions."
   ]
  },
  {
   "cell_type": "markdown",
   "id": "79604f0e-32fa-41e1-bfae-f60de3231e7e",
   "metadata": {},
   "source": [
    "# Q.3. How are lambda functions typically used in Python? Provide an example use case."
   ]
  },
  {
   "cell_type": "markdown",
   "id": "67b8711a-87d2-4311-9412-25ef10009525",
   "metadata": {},
   "source": [
    "Ans: You can use lambda function in filter()."
   ]
  },
  {
   "cell_type": "markdown",
   "id": "10b35c61-e883-4251-a37e-0a68d3516865",
   "metadata": {},
   "source": [
    "filter() function is used to filter a given iterable (list like object) using another function that defines the filtering logic. A lambda function is typically used to define the filtering logic and is passed as the first argument of filter() ."
   ]
  },
  {
   "cell_type": "markdown",
   "id": "0a21575f-9338-4103-99d0-70a672f36ae3",
   "metadata": {},
   "source": [
    "# Q.4. What are the advantages and limitations of lambda functions compared to regular functions in Python?\n"
   ]
  },
  {
   "cell_type": "markdown",
   "id": "706c27f7-7f28-44ad-a482-9d26592ad9fb",
   "metadata": {},
   "source": [
    "Ans: They can be immediately passed around (no variable needed) They can only have a single line of code within them. They return automatically. They can't have a docstring and they don't have a name."
   ]
  },
  {
   "cell_type": "markdown",
   "id": "22c66e09-187c-4d00-b37e-6c01a4cb783f",
   "metadata": {},
   "source": [
    "# Q.5. Are lambda functions in Python able to access variables defined outside of their own scope? Explain with an example.\n"
   ]
  },
  {
   "cell_type": "markdown",
   "id": "33a4208f-ebb6-4167-ac61-a22d8e21d5ee",
   "metadata": {},
   "source": [
    "Ans: Variables declared inside any function with var keyword are called local variables. Local variables cannot be accessed or modified outside the function declaration. Function parameters are considered as local variables."
   ]
  },
  {
   "cell_type": "markdown",
   "id": "caa94323-7b2a-4ebf-a7b5-9a6077d58c15",
   "metadata": {},
   "source": [
    "# Q.6. Write a lambda function to calculate the square of a given number."
   ]
  },
  {
   "cell_type": "markdown",
   "id": "6e91e6c9-bc8c-4e90-aea8-8eb6bfe19dcc",
   "metadata": {},
   "source": [
    "Ans: lambda function to calculate the square of a given number is:"
   ]
  },
  {
   "cell_type": "code",
   "execution_count": 1,
   "id": "62eb5fd1-d77e-4c3c-8202-6b9c20db684a",
   "metadata": {},
   "outputs": [
    {
     "name": "stdout",
     "output_type": "stream",
     "text": [
      "25\n"
     ]
    }
   ],
   "source": [
    "square = lambda x: x ** 2\n",
    "print(square(5))  # Output: 25"
   ]
  },
  {
   "cell_type": "markdown",
   "id": "be6c9eef-2711-4f37-b41d-dce4bbc68afb",
   "metadata": {},
   "source": [
    "# Q.7. Create a lambda function to find the maximum value in a list of integers."
   ]
  },
  {
   "cell_type": "markdown",
   "id": "4025a7e7-c0c0-401a-a29d-fddc55974811",
   "metadata": {},
   "source": [
    "Ans: Lambda function to find the maximum value in a list of integers is:"
   ]
  },
  {
   "cell_type": "code",
   "execution_count": 2,
   "id": "1040a9c0-dbec-4715-91aa-5ecc8a52a85a",
   "metadata": {},
   "outputs": [
    {
     "name": "stdout",
     "output_type": "stream",
     "text": [
      "Original list:  [25, 35, 100, 10, 60]\n",
      "The maximum value is: 100\n"
     ]
    }
   ],
   "source": [
    "# Initialization the list\n",
    "mylist = [25, 35, 100, 10, 60]\n",
    "print(\"Original list: \", mylist)\n",
    "\n",
    "# Find the maximum value using max()\n",
    "# without passing ker param\n",
    "max_number = max(mylist)\n",
    "print(\"The maximum value is:\", max_number)"
   ]
  },
  {
   "cell_type": "markdown",
   "id": "77fb7138-d012-4972-9708-27df9e33a4b5",
   "metadata": {},
   "source": [
    "# Q.8. Implement a lambda function to filter out all the even numbers from a list of integers."
   ]
  },
  {
   "cell_type": "markdown",
   "id": "53b3b055-3196-4ff8-a54b-7d8550a3bf43",
   "metadata": {},
   "source": [
    "Ans: Lambda function to filter out all the evan numbers from a list of integers is:"
   ]
  },
  {
   "cell_type": "code",
   "execution_count": 6,
   "id": "0d22e84e-0c68-4aa0-b7b8-878599caa0a5",
   "metadata": {},
   "outputs": [
    {
     "name": "stdout",
     "output_type": "stream",
     "text": [
      "List of fibonacci values : [0, 1, 1, 2, 3, 5, 8, 13, 21, 34, 55]\n",
      "List of even fibonacci values : [0, 2, 8, 34]\n"
     ]
    }
   ],
   "source": [
    "# Python program to filter even value \n",
    "\n",
    "# Function to filter even values \n",
    "def filtereven(data):\n",
    "    even=[]\n",
    "    for n in data:\n",
    "        if n%2==0:\n",
    "            even.append(n)\n",
    "    return even\n",
    "# List of fibonacci values\n",
    "fibo = [0,1,1,2,3,5,8,13,21,34,55]\n",
    "\n",
    "print(\"List of fibonacci values :\",fibo)\n",
    "evenFibo = filtereven(fibo)\n",
    "print(\"List of even fibonacci values :\",evenFibo)"
   ]
  },
  {
   "cell_type": "markdown",
   "id": "b4e832c6-c689-4233-a2a5-83a0ab0095f9",
   "metadata": {},
   "source": [
    "# Q.9. Write a lambda function to sort a list of strings in ascending order based on the length of each string.\n"
   ]
  },
  {
   "cell_type": "markdown",
   "id": "78843aa8-a0cb-4f2e-8057-5676ff20eaf7",
   "metadata": {},
   "source": [
    "Ans: lambda function to sort a list of strings in ascending order based on the length of each string is:"
   ]
  },
  {
   "cell_type": "code",
   "execution_count": 7,
   "id": "70f5a85e-4642-4445-a10a-2ae72d5b0e35",
   "metadata": {},
   "outputs": [
    {
     "name": "stdout",
     "output_type": "stream",
     "text": [
      "Original: [2, 4, 1, 6, 3]\n",
      "Sorted: [1, 2, 3, 4, 6]\n"
     ]
    }
   ],
   "source": [
    "# Create list with numbers\n",
    "numbers = [2, 4, 1, 6, 3]\n",
    "print(\"Original:\",numbers)\n",
    "\n",
    "# Using sort() with lambda\n",
    "numbers.sort(key=lambda x:x)\n",
    "print(\"Sorted:\",numbers)"
   ]
  },
  {
   "cell_type": "markdown",
   "id": "0e8ad973-ba94-42c7-8899-03b12061b04d",
   "metadata": {},
   "source": [
    "# Q.10. Create a lambda function that takes two lists as input and returns a new list containing the common elements between the two lists.\n"
   ]
  },
  {
   "cell_type": "markdown",
   "id": "3efd1265-1070-4972-abcf-55095b1ddd7e",
   "metadata": {},
   "source": [
    "Ans: lambda function that takes two lists as input and returns a new list containing the common elements between the two lists is :"
   ]
  },
  {
   "cell_type": "code",
   "execution_count": 8,
   "id": "cd4c4b6d-9171-4890-84b9-d34f639bd82b",
   "metadata": {},
   "outputs": [
    {
     "name": "stdout",
     "output_type": "stream",
     "text": [
      "[9, 11, 26, 28]\n"
     ]
    }
   ],
   "source": [
    "# Python program to illustrate the intersection\n",
    "# of two lists in most simple way\n",
    "def intersection(list1, list2):\n",
    "    list3 = [value for value in list1 if value in list2]\n",
    "    return list3\n",
    " \n",
    "# Driver Code\n",
    "list1 = [4, 9, 1, 17, 11, 26, 28, 54, 69]\n",
    "list2 = [9, 9, 74, 21, 45, 11, 63, 28, 26]\n",
    "print(intersection(list1, list2))"
   ]
  },
  {
   "cell_type": "markdown",
   "id": "f97f3322-0d38-443b-8314-264016880a7c",
   "metadata": {},
   "source": [
    "# Q.11. Write a recursive function to calculate the factorial of a given positive integer."
   ]
  },
  {
   "cell_type": "markdown",
   "id": "51529331-6bcd-4e8b-b68b-058f991b9a1b",
   "metadata": {},
   "source": [
    "Ans: recursive function to calculate the factorial of a given positive integer is:"
   ]
  },
  {
   "cell_type": "code",
   "execution_count": 11,
   "id": "ae3f9473-e5f1-4d9d-979e-101f71cc7d47",
   "metadata": {},
   "outputs": [
    {
     "name": "stdout",
     "output_type": "stream",
     "text": [
      "The factorial of 7 is 5040\n"
     ]
    }
   ],
   "source": [
    "# Factorial of a number using recursion\n",
    "\n",
    "def recur_factorial(n):\n",
    "    if n == 1:\n",
    "        return n\n",
    "    else:\n",
    "        return n*recur_factorial(n-1)\n",
    "\n",
    "num = 7\n",
    "\n",
    "# check if the number is negative\n",
    "if num < 0:\n",
    "    print(\"Sorry, factorial does not exist for negative numbers\")\n",
    "elif num == 0:\n",
    "    print(\"The factorial of 0 is 1\")\n",
    "else:\n",
    "    print(\"The factorial of\", num, \"is\", recur_factorial(num))"
   ]
  },
  {
   "cell_type": "markdown",
   "id": "447dac33-2fa8-4c86-a276-cde7540701ed",
   "metadata": {},
   "source": [
    "# Q.12. Implement a recursive function to compute the nth Fibonacci number."
   ]
  },
  {
   "cell_type": "markdown",
   "id": "e4641b48-bab2-41f2-bbb6-b7fe42b2ec00",
   "metadata": {},
   "source": [
    "Ans: Recursive function to compute the nth Fibonacci number is: let n = 10"
   ]
  },
  {
   "cell_type": "code",
   "execution_count": 14,
   "id": "a24e527b-5e7d-4ab2-9585-afc4ca5b7a77",
   "metadata": {},
   "outputs": [
    {
     "name": "stdout",
     "output_type": "stream",
     "text": [
      "0\n",
      "1\n",
      "1\n",
      "2\n",
      "3\n",
      "5\n",
      "8\n",
      "13\n",
      "21\n",
      "34\n"
     ]
    }
   ],
   "source": [
    "def my_fibonacci(n): # n is how many items you need in your series\n",
    "    a, b = 0, 1  # initial value of a and b are set 0 and 1\n",
    "    for i in range(n):\n",
    "        print(a)   # print first element of the series\n",
    "        a, b = b, a + b   # update the values of a and b\n",
    "\n",
    "my_fibonacci(10)"
   ]
  },
  {
   "cell_type": "markdown",
   "id": "a3d2f2a9-6213-4355-8703-286491b5d8cf",
   "metadata": {},
   "source": [
    "# Q.13. Create a recursive function to find the sum of all the elements in a given list."
   ]
  },
  {
   "cell_type": "markdown",
   "id": "3034d1ba-1a13-4845-ba1b-30a1940e2763",
   "metadata": {},
   "source": [
    "Ans: Recursive function to find the sum of all the elements in a given list is:"
   ]
  },
  {
   "cell_type": "code",
   "execution_count": 17,
   "id": "f32252bf-cb1c-499a-8c2f-73eb4c725de2",
   "metadata": {},
   "outputs": [
    {
     "name": "stdin",
     "output_type": "stream",
     "text": [
      "Enter the number of elements for list: 4\n",
      "Enter element: 23\n",
      "Enter element: 12\n",
      "Enter element: 9\n",
      "Enter element: 15\n"
     ]
    },
    {
     "name": "stdout",
     "output_type": "stream",
     "text": [
      "The list is:\n",
      "[23, 12, 9, 15]\n",
      "Sum of items in list:\n",
      "59\n"
     ]
    }
   ],
   "source": [
    "def sum_arr(arr,size):\n",
    "    if (size == 0):\n",
    "        return 0\n",
    "    else:\n",
    "        return arr[size-1] + sum_arr(arr,size-1)\n",
    "n=int(input(\"Enter the number of elements for list:\"))\n",
    "a=[]\n",
    "for i in range(0,n):\n",
    "    element=int(input(\"Enter element:\"))\n",
    "    a.append(element)\n",
    "print(\"The list is:\")\n",
    "print(a)\n",
    "print(\"Sum of items in list:\")\n",
    "b=sum_arr(a,n)\n",
    "print(b)"
   ]
  },
  {
   "cell_type": "markdown",
   "id": "eb2d46ab-e5c5-46bb-8cbe-805873d8194d",
   "metadata": {},
   "source": [
    "# Q.14. Write a recursive function to determine whether a given string is a palindrome.\n"
   ]
  },
  {
   "cell_type": "markdown",
   "id": "e777cb1a-a157-409f-9fac-76eb416449be",
   "metadata": {},
   "source": [
    "Ans: Recursive function to determine whether a given string is a palindrome is:"
   ]
  },
  {
   "cell_type": "code",
   "execution_count": 18,
   "id": "222611af-7b15-430e-ba15-5ef123e1c940",
   "metadata": {},
   "outputs": [
    {
     "name": "stdout",
     "output_type": "stream",
     "text": [
      "Yes\n"
     ]
    }
   ],
   "source": [
    "def isPalindrome(s, i):\n",
    "    if(i > len(s)/2):\n",
    "        return True\n",
    "    ans = False\n",
    "    if((s[i] is s[len(s) - i - 1]) and isPalindrome(s, i + 1)):\n",
    "        ans = True\n",
    "    return ans\n",
    " \n",
    "str = \"MalayalaM\"\n",
    "if (isPalindrome(str, 0)):\n",
    "    print(\"Yes\")\n",
    "else:\n",
    "    print(\"No\")"
   ]
  },
  {
   "cell_type": "markdown",
   "id": "7f507b59-e96a-4419-a455-80ebce5e8517",
   "metadata": {},
   "source": [
    "# Q.15. Implement a recursive function to find the greatest common divisor (GCD) of two positive integers."
   ]
  },
  {
   "cell_type": "markdown",
   "id": "21f4c56f-24c1-4410-be8b-6b5f0134b864",
   "metadata": {},
   "source": [
    "Ans: Recursive function to find the greatest common divisor (GCD) of two positive integers is:"
   ]
  },
  {
   "cell_type": "code",
   "execution_count": 19,
   "id": "ed36acd5-6a9e-4797-a5df-665e6c215f1a",
   "metadata": {},
   "outputs": [
    {
     "name": "stdin",
     "output_type": "stream",
     "text": [
      "Enter first number: 30\n",
      "Enter second number: 12\n"
     ]
    },
    {
     "name": "stdout",
     "output_type": "stream",
     "text": [
      "GCD is: \n",
      "6\n"
     ]
    }
   ],
   "source": [
    "def gcd(a,b):\n",
    "    if(b==0):\n",
    "        return a\n",
    "    else:\n",
    "        return gcd(b,a%b)\n",
    "a=int(input(\"Enter first number:\"))\n",
    "b=int(input(\"Enter second number:\"))\n",
    "GCD=gcd(a,b)\n",
    "print(\"GCD is: \")\n",
    "print(GCD)"
   ]
  }
 ],
 "metadata": {
  "kernelspec": {
   "display_name": "Python 3 (ipykernel)",
   "language": "python",
   "name": "python3"
  },
  "language_info": {
   "codemirror_mode": {
    "name": "ipython",
    "version": 3
   },
   "file_extension": ".py",
   "mimetype": "text/x-python",
   "name": "python",
   "nbconvert_exporter": "python",
   "pygments_lexer": "ipython3",
   "version": "3.10.6"
  }
 },
 "nbformat": 4,
 "nbformat_minor": 5
}
